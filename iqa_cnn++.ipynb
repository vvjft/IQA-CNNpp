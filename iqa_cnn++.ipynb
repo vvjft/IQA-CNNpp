{
  "nbformat": 4,
  "nbformat_minor": 0,
  "metadata": {
    "colab": {
      "provenance": [],
      "authorship_tag": "ABX9TyMaT/znPIGzPLHisuF1K9rK",
      "include_colab_link": true
    },
    "kernelspec": {
      "name": "python3",
      "display_name": "Python 3"
    },
    "language_info": {
      "name": "python"
    }
  },
  "cells": [
    {
      "cell_type": "markdown",
      "metadata": {
        "id": "view-in-github",
        "colab_type": "text"
      },
      "source": [
        "<a href=\"https://colab.research.google.com/github/vvjft/IQA-CNNpp/blob/main/iqa_cnn%2B%2B.ipynb\" target=\"_parent\"><img src=\"https://colab.research.google.com/assets/colab-badge.svg\" alt=\"Open In Colab\"/></a>"
      ]
    },
    {
      "cell_type": "code",
      "source": [
        "!apt-get install unrar\n",
        "#import logging # can be set once for session\n",
        "#logging.basicConfig(level=logging.INFO, format='%(asctime)s - %(levelname)s - %(message)s', datefmt='%H:%M')"
      ],
      "metadata": {
        "colab": {
          "base_uri": "https://localhost:8080/"
        },
        "id": "3TKiIR9kOIS_",
        "outputId": "f93bf2d2-3ae7-4daf-fd95-6a1973ca98ea"
      },
      "execution_count": 1,
      "outputs": [
        {
          "output_type": "stream",
          "name": "stdout",
          "text": [
            "Reading package lists... Done\n",
            "Building dependency tree... Done\n",
            "Reading state information... Done\n",
            "unrar is already the newest version (1:6.1.5-1).\n",
            "0 upgraded, 0 newly installed, 0 to remove and 45 not upgraded.\n"
          ]
        }
      ]
    },
    {
      "cell_type": "code",
      "execution_count": 18,
      "metadata": {
        "id": "0-A0BbLrTPdM"
      },
      "outputs": [],
      "source": [
        "import numpy as np\n",
        "import pandas as pd\n",
        "import cv2\n",
        "import subprocess\n",
        "import os\n",
        "from scipy.signal import convolve2d\n",
        "from sklearn.model_selection import train_test_split\n",
        "from tensorflow.keras.utils import to_categorical\n",
        "from sklearn.preprocessing import LabelEncoder\n",
        "import sys\n",
        "\n",
        "class database_loader:\n",
        "    ''' Parent class for database-specific loaders '''\n",
        "    def __init__(self):\n",
        "      self.catalogue = 'databases'\n",
        "      ### Attributes to be declared within the child class ###\n",
        "      self.url = ''      # URL of the dataset\n",
        "      self.dir = ''      # Directory where the exctracted dataset is stored\n",
        "      self.images = ''   # Directory where the images are stored\n",
        "      self.rar_file = '' # Path to the rar file\n",
        "      self.zip_file = '' # Path to the zip file\n",
        "\n",
        "    def download(self, file, exctract_in='databases'):\n",
        "        try:\n",
        "            #!wget {self.url} -P {self.catalogue}\n",
        "            if file.endswith('.rar'):\n",
        "                !unrar x -inul {file} {exctract_in}\n",
        "            elif file.endswith('.zip'):\n",
        "                !unzip -q {file} -d {exctract_in}\n",
        "            else:\n",
        "                print(f\"Unsupported file type: {file}\")\n",
        "                return False\n",
        "            print(f\"Dataset extracted in '{exctract_in}'\")\n",
        "        except Exception as e:\n",
        "            print(f\"Failed to download dataset: {e}.\")\n",
        "            return False\n",
        "\n",
        "    def patch_files_exist(self):\n",
        "        '''Check if patch files are present in the directory.'''\n",
        "        return (os.path.exists(os.path.join(self.dir, 'normalized_distorted_images', 'training', 'patch_training.csv')) and\n",
        "                os.path.exists(os.path.join(self.dir, 'normalized_distorted_images', 'validation', 'patch_validation.csv')) and\n",
        "                os.path.exists(os.path.join(self.dir, 'normalized_distorted_images', 'test', 'patch_test.csv')))\n",
        "\n",
        "    def save_data(self, data, set_type):\n",
        "        '''Save the data to disk.'''\n",
        "        X, y = data\n",
        "        np.save(os.path.join(self.dir, f'X_{set_type}.npy'), X)\n",
        "        np.save(os.path.join(self.dir, f'y_{set_type}.npy'), y)\n",
        "        print(f\"{set_type} data saved successfully.\")\n",
        "\n",
        "    def load_data(self, set_type):\n",
        "        '''Load the data from disk.'''\n",
        "        X = np.load(os.path.join(self.dir, f'X_{set_type}.npy'))\n",
        "        y = np.load(os.path.join(self.dir, f'y_{set_type}.npy'))\n",
        "        return X, y\n",
        "\n",
        "    def data_exist(self):\n",
        "        '''Check if patch files are present in the directory.'''\n",
        "        return (os.path.exists(os.path.join(self.dir, 'X_train.npy')) and os.path.exists(os.path.join(self.dir, 'y_train.npy')) and\n",
        "                os.path.exists(os.path.join(self.dir, 'X_val.npy')) and os.path.exists(os.path.join(self.dir, 'y_val.npy')) and\n",
        "                os.path.exists(os.path.join(self.dir, 'X_test.npy')) and os.path.exists(os.path.join(self.dir, 'y_test.npy')))\n",
        "\n",
        "    def split_data(self, data1):\n",
        "        train_data, test_data = train_test_split(data1, test_size=0.2, random_state=40)\n",
        "        train_data, val_data = train_test_split(train_data, test_size=0.25, random_state=40)\n",
        "        return train_data, val_data, test_data\n",
        "\n",
        "    def preprocess(self, train_data, val_data, test_data, patch_size=32):\n",
        "\n",
        "        def normalize_image(patch, P=3, Q=3, C=1):\n",
        "            kernel = np.ones((P, Q)) / (P * Q)\n",
        "            patch_mean = convolve2d(patch, kernel, boundary='symm', mode='same')\n",
        "            patch_sm = convolve2d(np.square(patch), kernel, boundary='symm', mode='same')\n",
        "            patch_std = np.sqrt(np.maximum(patch_sm - np.square(patch_mean), 0)) + C\n",
        "            patch_ln = (patch - patch_mean) / patch_std\n",
        "            return patch_ln.astype('float32')\n",
        "\n",
        "        def slice_image(image, patch_size=32):\n",
        "            height, width = image.shape[:2]\n",
        "            num_patches_y = height // patch_size\n",
        "            num_patches_x = width // patch_size\n",
        "            patch_count = 0\n",
        "            for i in range(num_patches_y):\n",
        "                for j in range(num_patches_x):\n",
        "                    patch = image[i*patch_size:(i+1)*patch_size, j*patch_size:(j+1)*patch_size]\n",
        "                    patch_path = os.path.join(output_dir_patches, f\"{os.path.splitext(filename)[0]}_patch_{patch_count}.bmp\")\n",
        "                    patch_filename = f\"{os.path.splitext(filename)[0]}_patch_{patch_count}.bmp\"\n",
        "                    cv2.imwrite(patch_path, patch)\n",
        "                    self.patches.append([patch_filename, mos, distortion])\n",
        "                    patch_count += 1\n",
        "\n",
        "        sets = [(train_data, 'training'), (val_data, 'validation'), (test_data, 'test')]\n",
        "        dfs = []\n",
        "        total_images = sum(len(data) for data, _ in sets)\n",
        "        processed_images = 0\n",
        "        print('Preprocessing images...')\n",
        "\n",
        "        for (data, name) in sets:\n",
        "            output_dir_full = os.path.join(self.dir, 'normalized_distorted_images', name, 'full')\n",
        "            output_dir_patches = os.path.join(self.dir, 'normalized_distorted_images', name, 'patches')\n",
        "            os.makedirs(output_dir_full, exist_ok=True)\n",
        "            os.makedirs(output_dir_patches, exist_ok=True)\n",
        "            self.patches = []\n",
        "            for row in data.itertuples(index=False):\n",
        "                filename = row[0]\n",
        "                mos = row[1]\n",
        "                distortion = row[2]\n",
        "                image_path = os.path.join(self.images, filename)\n",
        "                image = cv2.imread(image_path)\n",
        "                if image is None:\n",
        "                    print(f\"Failed to load image: {filename}\")\n",
        "                    continue\n",
        "                image_gray = cv2.cvtColor(image, cv2.COLOR_BGR2GRAY)\n",
        "                image_normalized = normalize_image(image_gray)\n",
        "                filename = f'NORM_{filename.lower()}'\n",
        "                cv2.imwrite(os.path.join(output_dir_full, filename), image_normalized)\n",
        "                slice_image(image_normalized, patch_size)\n",
        "                processed_images += 1\n",
        "                sys.stdout.write(f'\\rProcessed {processed_images}/{total_images} images. ')\n",
        "                sys.stdout.flush()\n",
        "\n",
        "            patches = pd.DataFrame(self.patches, columns=['image', 'MOS', 'distortion'])\n",
        "            dfs.append(patches)\n",
        "        return dfs\n",
        "\n",
        "    def encode(self, dataframes):\n",
        "        '''Encodes distortion labels into one-hot vectors.'''\n",
        "        for i in range(len(dataframes)):\n",
        "            dists = dataframes[i]['distortion']\n",
        "            le = LabelEncoder()\n",
        "            y_class_encoded = le.fit_transform(dists)\n",
        "            dists_one_hot = to_categorical(y_class_encoded, num_classes=13).astype(int)\n",
        "            dataframes[i]['distortion_encoded'] = [np.array(one_hot) for one_hot in dists_one_hot]\n",
        "            dataframes[i] = dataframes[i].drop(['distortion'], axis=1)\n",
        "        return dataframes\n",
        "\n",
        "    def map2tf(self, set_type, data):\n",
        "        '''\n",
        "        Maps data into format excected by TensorFlow: adds chanel dimension and stores data in arrays.\n",
        "        set_type: 'training', 'validation', 'test'\n",
        "        data: DataFrame with columns: 'image', 'MOS', 'distortion'\n",
        "        '''\n",
        "        images_dir = os.path.join(self.dir, 'normalized_distorted_images', set_type, 'patches')\n",
        "        X, y = [], []\n",
        "        for row in data.itertuples(index=False):\n",
        "            filename = row[0]\n",
        "            score = row[1]\n",
        "            file_path = os.path.join(images_dir, filename)\n",
        "            if filename.endswith(('.bmp', '.png')) and os.path.exists(file_path):\n",
        "                img = cv2.imread(file_path, cv2.IMREAD_UNCHANGED)\n",
        "                X.append(img)\n",
        "                y.append(score)\n",
        "            else:\n",
        "                print(f\"File not found: {file_path}\")\n",
        "        X = np.array(X)\n",
        "        y = np.array(y)\n",
        "        X = X[..., np.newaxis]\n",
        "        return X, y\n",
        "\n",
        "class tid2013_loader(database_loader):\n",
        "    def __init__(self, download=True):\n",
        "        super().__init__()\n",
        "        self.url = 'https://www.ponomarenko.info/tid2013/tid2013.rar'\n",
        "        self.dir = os.path.join(self.catalogue, 'tid2013')\n",
        "        self.images = os.path.join(self.dir, 'distorted_images')\n",
        "        self.rar_file = os.path.join(self.catalogue, 'tid2013.rar')\n",
        "        self.distortion_mapping = {1: 'wn', 2:'wnc', 3:'scn', 4:'mn', 5:'hfn', 6:'in', 7:'qn', 8: 'gblur', 9:'idn', 10: 'jpeg', 11: 'jp2k', 12:'jpegte', 13:'jp2kte'} # According to TID2013 documentation\n",
        "\n",
        "        os.makedirs(self.dir, exist_ok=True)\n",
        "        if download:\n",
        "            self.download(self.rar_file, exctract_in=self.dir)\n",
        "        elif not os.path.exists(self.rar_file):\n",
        "            print(\"Dataset not found. Downloading...\")\n",
        "            self.download(self.url, self.rar_file)\n",
        "\n",
        "        if self.data_exist():\n",
        "            print(\"Patch files found. Loading patched data...\")\n",
        "            self.train = self.load_data('train')\n",
        "            self.val = self.load_data('val')\n",
        "            self.test= self.load_data('test')\n",
        "        else:\n",
        "            data = self.prepare_data()\n",
        "            print('Mapping data to TensorFlow format...')\n",
        "            self.train = self.map2tf('training', data[0])\n",
        "            self.val = self.map2tf('validation', data[1])\n",
        "            self.test = self.map2tf('test', data[2])\n",
        "            self.save_data(self.train, 'train')\n",
        "            self.save_data(self.val, 'val')\n",
        "            self.save_data(self.test, 'test')\n",
        "        #self.train, self.val, self.test = self.encode(data)\n",
        "\n",
        "        print(\"Data loaded successfully.\")\n",
        "\n",
        "    def prepare_data(self, filter=True):\n",
        "        data_path = os.path.join(self.dir, 'mos_with_names.txt')\n",
        "        data = pd.read_csv(data_path, header=None, delimiter=' ')\n",
        "        data = data.iloc[:, [1, 0]]  # swap column order\n",
        "        data.columns = ['image', 'MOS']\n",
        "        data['distortion'] = data['image'].apply(lambda x: self.distortion_mapping.get(int(x.split('_')[1]), 'other'))\n",
        "        if filter:\n",
        "            data = data[data['distortion'].isin(self.distortion_mapping.values())]\n",
        "        data.to_csv(os.path.join(self.dir,'mos_with_names.csv'), index=False)\n",
        "\n",
        "        train_data, val_data, test_data = self.split_data(data)\n",
        "        train_data, val_data, test_data = self.preprocess(train_data, val_data, test_data)\n",
        "\n",
        "        return [train_data, val_data, test_data]\n",
        "\n",
        "class kadid10k_loader(database_loader):\n",
        "    def __init__(self, download=True):\n",
        "        super().__init__()\n",
        "        self.url = 'https://datasets.vqa.mmsp-kn.de/archives/kadid10k.zip'\n",
        "        self.dir = os.path.join(self.catalogue, 'kadid10k')\n",
        "        self.images = os.path.join(self.dir, 'images')\n",
        "        self.zip_file = os.path.join(self.catalogue, 'kadid10k.zip')\n",
        "        self.distortion_mapping = {1: 'gblur', 2: 'lblur', 3: 'mblur', 4: 'cdiff', 5: 'cshift', # According to KADID-10k documentation\n",
        "                                   6: 'cquant', 7: 'csat1', 8: 'csat2', 9: 'jp2k', 10: 'jpeg',\n",
        "                                   11: 'wniose1', 12: 'wniose2', 13: 'inoise', 14: 'mnoise', 15: 'denoise',\n",
        "                                   16: 'bright', 17: 'dark', 18: 'meanshft', 19: 'jit', 20: 'patch',\n",
        "                                   21: 'pixel', 22: 'quant', 23: 'cblock', 24: 'sharp', 25: 'contrst'}\n",
        "        if download:\n",
        "            self.download(self.zip_file)\n",
        "        elif not os.path.exists(self.zip_file):\n",
        "            print(\"Dataset not found. Downloading...\")\n",
        "            self.download(self.url, self.zip_file)\n",
        "\n",
        "        if self.data_exist():\n",
        "            print(\"Patch files found. Loading patched data...\")\n",
        "            self.train = self.load_data('train')\n",
        "            self.val = self.load_data('val')\n",
        "            self.test= self.load_data('test')\n",
        "        else:\n",
        "            data = self.prepare_data()\n",
        "            print('Mapping data to TensorFlow format...')\n",
        "            self.train = self.map2tf('training', data[0])\n",
        "            self.val = self.map2tf('validation', data[1])\n",
        "            self.test = self.map2tf('test', data[2])\n",
        "            self.save_data(self.train, 'train')\n",
        "            self.save_data(self.val, 'val')\n",
        "            self.save_data(self.test, 'test')\n",
        "        #self.train, self.val, self.test = self.encode(data)\n",
        "\n",
        "        print(\"Data loaded successfully.\")\n",
        "\n",
        "    def prepare_data(self, filter=True):\n",
        "        data_path = os.path.join(self.dir, 'dmos.csv')\n",
        "        data = pd.read_csv(data_path, header=0, usecols=[0, 2])\n",
        "        data.columns = ['image', 'DMOS']\n",
        "        data['distortion'] = data['image'].apply(lambda x: self.distortion_mapping.get(int(x.split('_')[1]), 'other'))\n",
        "        #if filter:\n",
        "            #data = data[data['distortion'].isin(self.distortion_mapping.values())]\n",
        "        data.to_csv(os.path.join(self.dir,'dmos_with_names.csv'), index=False)\n",
        "\n",
        "        train_data, val_data, test_data = self.split_data(data)\n",
        "        train_data, val_data, test_data = self.preprocess(train_data, val_data, test_data)\n",
        "\n",
        "        return [train_data, val_data, test_data]"
      ]
    },
    {
      "cell_type": "markdown",
      "source": [
        "If the download is slow, stop it, delete databases directory (!rm)\n",
        " and run it again."
      ],
      "metadata": {
        "id": "k1nG-AgVZX5f"
      }
    },
    {
      "cell_type": "code",
      "source": [
        "!rm -r 'databases/tid2013'\n",
        "!rm -r 'databases/kadid10k'\n",
        "#tid2013_loader = tid2013_loader(download=True)\n",
        "kadid10k_loader = kadid10k_loader(download=True)"
      ],
      "metadata": {
        "colab": {
          "base_uri": "https://localhost:8080/"
        },
        "id": "0GLRKt2kneZP",
        "outputId": "67880b54-8696-43ac-894a-a22768621c4c"
      },
      "execution_count": 19,
      "outputs": [
        {
          "output_type": "stream",
          "name": "stdout",
          "text": [
            "rm: cannot remove 'databases/tid2013': No such file or directory\n",
            "Dataset extracted in 'databases'\n",
            "Preprocessing images...\n",
            "Processed 10125/10125 images.Mapping data to TensorFlow format...\n",
            "train data saved successfully.\n",
            "val data saved successfully.\n",
            "test data saved successfully.\n",
            "Data loaded successfully.\n"
          ]
        }
      ]
    },
    {
      "cell_type": "code",
      "source": [
        "X_train, y_train = tid2013_loader.train\n",
        "X_val, y_val = tid2013_loader.val\n",
        "X_test, y_test = tid2013_loader.test"
      ],
      "metadata": {
        "id": "ov5L5oyL-u0T"
      },
      "execution_count": 7,
      "outputs": []
    },
    {
      "cell_type": "code",
      "source": [
        "X_train, y_train = kadid10k_loader.train\n",
        "X_val, y_val = kadid10k_loader.val\n",
        "X_test, y_test = kadid10k_loader.test"
      ],
      "metadata": {
        "id": "S_E9JdNaIrI9"
      },
      "execution_count": 20,
      "outputs": []
    },
    {
      "cell_type": "code",
      "source": [
        "import tensorflow as tf\n",
        "from tensorflow.keras import layers, models\n",
        "\n",
        "model = models.Sequential([\n",
        "    layers.Input(shape=(32, 32, 1)),\n",
        "    layers.MaxPooling2D((2, 2)),\n",
        "    layers.Conv2D(32, (3, 3), activation='relu'),\n",
        "    layers.MaxPooling2D((2, 2)),\n",
        "    layers.Flatten(),\n",
        "    layers.Dense(128, activation='relu'),\n",
        "    layers.Dense(512, activation='relu'),\n",
        "    layers.Dense(1, activation='linear')\n",
        "])\n",
        "\n",
        "model.compile(optimizer='adam', loss='mean_squared_error', metrics=['mae'])\n",
        "history = model.fit(X_train, y_train, epochs=10, batch_size=32, validation_data=(X_val, y_val))"
      ],
      "metadata": {
        "colab": {
          "base_uri": "https://localhost:8080/"
        },
        "id": "RZgZvm-Oaw5x",
        "outputId": "2b40713d-d096-4383-cb02-5668b12ffbf7"
      },
      "execution_count": 25,
      "outputs": [
        {
          "output_type": "stream",
          "name": "stdout",
          "text": [
            "Epoch 1/10\n",
            "\u001b[1m36450/36450\u001b[0m \u001b[32m━━━━━━━━━━━━━━━━━━━━\u001b[0m\u001b[37m\u001b[0m \u001b[1m546s\u001b[0m 15ms/step - loss: 1.2568 - mae: 0.9344 - val_loss: 1.0603 - val_mae: 0.8829\n",
            "Epoch 2/10\n",
            "\u001b[1m36450/36450\u001b[0m \u001b[32m━━━━━━━━━━━━━━━━━━━━\u001b[0m\u001b[37m\u001b[0m \u001b[1m530s\u001b[0m 14ms/step - loss: 1.0218 - mae: 0.8637 - val_loss: 1.0408 - val_mae: 0.8716\n",
            "Epoch 3/10\n",
            "\u001b[1m36450/36450\u001b[0m \u001b[32m━━━━━━━━━━━━━━━━━━━━\u001b[0m\u001b[37m\u001b[0m \u001b[1m585s\u001b[0m 15ms/step - loss: 1.0051 - mae: 0.8536 - val_loss: 1.0265 - val_mae: 0.8667\n",
            "Epoch 4/10\n",
            "\u001b[1m36450/36450\u001b[0m \u001b[32m━━━━━━━━━━━━━━━━━━━━\u001b[0m\u001b[37m\u001b[0m \u001b[1m566s\u001b[0m 15ms/step - loss: 0.9976 - mae: 0.8495 - val_loss: 1.0735 - val_mae: 0.8868\n",
            "Epoch 5/10\n",
            "\u001b[1m36450/36450\u001b[0m \u001b[32m━━━━━━━━━━━━━━━━━━━━\u001b[0m\u001b[37m\u001b[0m \u001b[1m540s\u001b[0m 15ms/step - loss: 0.9906 - mae: 0.8458 - val_loss: 1.0210 - val_mae: 0.8628\n",
            "Epoch 6/10\n",
            "\u001b[1m36450/36450\u001b[0m \u001b[32m━━━━━━━━━━━━━━━━━━━━\u001b[0m\u001b[37m\u001b[0m \u001b[1m533s\u001b[0m 14ms/step - loss: 0.9880 - mae: 0.8441 - val_loss: 1.0330 - val_mae: 0.8665\n",
            "Epoch 7/10\n",
            "\u001b[1m36450/36450\u001b[0m \u001b[32m━━━━━━━━━━━━━━━━━━━━\u001b[0m\u001b[37m\u001b[0m \u001b[1m565s\u001b[0m 14ms/step - loss: 0.9840 - mae: 0.8420 - val_loss: 1.0233 - val_mae: 0.8622\n",
            "Epoch 8/10\n",
            "\u001b[1m36450/36450\u001b[0m \u001b[32m━━━━━━━━━━━━━━━━━━━━\u001b[0m\u001b[37m\u001b[0m \u001b[1m540s\u001b[0m 15ms/step - loss: 0.9810 - mae: 0.8402 - val_loss: 1.0234 - val_mae: 0.8615\n",
            "Epoch 9/10\n",
            "\u001b[1m36450/36450\u001b[0m \u001b[32m━━━━━━━━━━━━━━━━━━━━\u001b[0m\u001b[37m\u001b[0m \u001b[1m540s\u001b[0m 15ms/step - loss: 0.9811 - mae: 0.8403 - val_loss: 1.0218 - val_mae: 0.8595\n",
            "Epoch 10/10\n",
            "\u001b[1m36450/36450\u001b[0m \u001b[32m━━━━━━━━━━━━━━━━━━━━\u001b[0m\u001b[37m\u001b[0m \u001b[1m549s\u001b[0m 14ms/step - loss: 0.9777 - mae: 0.8382 - val_loss: 1.0315 - val_mae: 0.8689\n"
          ]
        }
      ]
    },
    {
      "cell_type": "code",
      "source": [
        "loss, mae = model.evaluate(X_test, y_test, verbose=0)\n",
        "print('Test loss:', loss)\n",
        "print('Test MAE:', mae)"
      ],
      "metadata": {
        "colab": {
          "base_uri": "https://localhost:8080/"
        },
        "id": "V1YpQZcgZAgF",
        "outputId": "061cd6fc-b304-4242-9a5c-38a00ae146cc"
      },
      "execution_count": 26,
      "outputs": [
        {
          "output_type": "stream",
          "name": "stdout",
          "text": [
            "Test loss: 0.9741964936256409\n",
            "Test MAE: 0.8370321393013\n"
          ]
        }
      ]
    }
  ]
}